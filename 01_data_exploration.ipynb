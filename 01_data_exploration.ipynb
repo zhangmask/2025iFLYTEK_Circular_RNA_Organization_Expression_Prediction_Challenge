{
 "cells": [
  {
   "cell_type": "markdown",
   "metadata": {},
   "source": [
    "# 环状RNA组织表达预测 - 数据探索分析\n",
    "\n",
    "本notebook用于对环状RNA数据进行全面的探索性数据分析，包括：\n",
    "1. 数据加载和基本信息查看\n",
    "2. 特征分布分析\n",
    "3. 目标变量分析\n",
    "4. 特征相关性分析\n",
    "5. 数据质量检查"
   ]
  },
  {
   "cell_type": "code",
   "execution_count": null,
   "metadata": {},
   "outputs": [],
   "source": [
    "# 导入必要的库\n",
    "import pandas as pd\n",
    "import numpy as np\n",
    "import matplotlib.pyplot as plt\n",
    "import seaborn as sns\n",
    "import warnings\n",
    "from scipy import stats\n",
    "\n",
    "# 设置显示选项\n",
    "pd.set_option('display.max_columns', None)\n",
    "pd.set_option('display.width', None)\n",
    "warnings.filterwarnings('ignore')\n",
    "\n",
    "# 设置图形样式\n",
    "plt.style.use('seaborn-v0_8')\n",
    "sns.set_palette('husl')\n",
    "plt.rcParams['figure.figsize'] = (12, 8)\n",
    "plt.rcParams['font.size'] = 12"
   ]
  },
  {
   "cell_type": "markdown",
   "metadata": {},
   "source": [
    "## 1. 数据加载和基本信息"
   ]
  },
  {
   "cell_type": "code",
   "execution_count": null,
   "metadata": {},
   "outputs": [],
   "source": [
    "# 加载训练数据和测试数据\n",
    "train_df = pd.read_csv('train.csv')\n",
    "test_df = pd.read_csv('test.csv')\n",
    "\n",
    "print(\"训练集形状:\", train_df.shape)\n",
    "print(\"测试集形状:\", test_df.shape)\n",
    "print(\"\\n训练集列名:\")\n",
    "print(train_df.columns.tolist())\n",
    "print(\"\\n测试集列名:\")\n",
    "print(test_df.columns.tolist())"
   ]
  },
  {
   "cell_type": "code",
   "execution_count": null,
   "metadata": {},
   "outputs": [],
   "source": [
    "# 查看训练集前几行\n",
    "print(\"训练集前5行:\")\n",
    "display(train_df.head())\n",
    "\n",
    "print(\"\\n测试集前5行:\")\n",
    "display(test_df.head())"
   ]
  },
  {
   "cell_type": "code",
   "execution_count": null,
   "metadata": {},
   "outputs": [],
   "source": [
    "# 数据类型和基本信息\n",
    "print(\"训练集数据类型:\")\n",
    "print(train_df.dtypes)\n",
    "print(\"\\n训练集基本信息:\")\n",
    "print(train_df.info())\n",
    "print(\"\\n训练集描述性统计:\")\n",
    "display(train_df.describe())"
   ]
  },
  {
   "cell_type": "code",
   "execution_count": null,
   "metadata": {},
   "outputs": [],
   "source": [
    "# 检查缺失值\n",
    "print(\"训练集缺失值:\")\n",
    "train_missing = train_df.isnull().sum()\n",
    "print(train_missing[train_missing > 0])\n",
    "\n",
    "print(\"测试集缺失值:\")\n",
    "test_missing = test_df.isnull().sum()\n",
    "print(test_missing[test_missing > 0])\n",
    "\n",
    "# 缺失值比例\n",
    "if train_missing.sum() > 0:\n",
    "    missing_percent = (train_missing / len(train_df)) * 100\n",
    "    print(\"\\n训练集缺失值比例:\")\n",
    "    print(missing_percent[missing_percent > 0])"
   ]
  },
  {
   "cell_type": "markdown",
   "metadata": {},
   "source": [
    "## 2. 目标变量分析"
   ]
  },
  {
   "cell_type": "code",
   "execution_count": null,
   "metadata": {},
   "outputs": [],
   "source": [
    "# 目标变量分布\n",
    "target_col = 'Tissue'\n",
    "print(f\"目标变量 '{target_col}' 的分布:\")\n",
    "target_counts = train_df[target_col].value_counts().sort_index()\n",
    "print(target_counts)\n",
    "\n",
    "print(\"\\n目标变量比例:\")\n",
    "target_props = train_df[target_col].value_counts(normalize=True).sort_index()\n",
    "print(target_props)\n",
    "\n",
    "print(f\"\\n类别数量: {train_df[target_col].nunique()}\")"
   ]
  },
  {
   "cell_type": "code",
   "execution_count": null,
   "metadata": {},
   "outputs": [],
   "source": [
    "# 目标变量可视化\n",
    "fig, axes = plt.subplots(1, 2, figsize=(15, 6))\n",
    "\n",
    "# 柱状图\n",
    "target_counts.plot(kind='bar', ax=axes[0], color='skyblue', edgecolor='black')\n",
    "axes[0].set_title('目标变量分布', fontsize=14, fontweight='bold')\n",
    "axes[0].set_xlabel('组织类型')\n",
    "axes[0].set_ylabel('样本数量')\n",
    "axes[0].tick_params(axis='x', rotation=45)\n",
    "\n",
    "# 饼图\n",
    "target_counts.plot(kind='pie', ax=axes[1], autopct='%1.1f%%', startangle=90)\n",
    "axes[1].set_title('目标变量比例分布', fontsize=14, fontweight='bold')\n",
    "axes[1].set_ylabel('')\n",
    "\n",
    "plt.tight_layout()\n",
    "plt.show()\n",
    "\n",
    "# 检查类别不平衡\n",
    "max_count = target_counts.max()\n",
    "min_count = target_counts.min()\n",
    "imbalance_ratio = max_count / min_count\n",
    "print(f\"\\n类别不平衡比例: {imbalance_ratio:.2f} (最大类别/最小类别)\")"
   ]
  },
  {
   "cell_type": "markdown",
   "metadata": {},
   "source": [
    "## 3. 特征分析"
   ]
  },
  {
   "cell_type": "code",
   "execution_count": null,
   "metadata": {},
   "outputs": [],
   "source": [
    "# 分离数值特征和分类特征\n",
    "numeric_features = train_df.select_dtypes(include=[np.number]).columns.tolist()\n",
    "if 'ID' in numeric_features:\n",
    "    numeric_features.remove('ID')\n",
    "\n",
    "categorical_features = train_df.select_dtypes(include=['object', 'bool']).columns.tolist()\n",
    "if target_col in categorical_features:\n",
    "    categorical_features.remove(target_col)\n",
    "\n",
    "print(f\"数值特征 ({len(numeric_features)}个): {numeric_features}\")\n",
    "print(f\"分类特征 ({len(categorical_features)}个): {categorical_features}\")"
   ]
  },
  {
   "cell_type": "code",
   "execution_count": null,
   "metadata": {},
   "outputs": [],
   "source": [
    "# 数值特征分布分析\n",
    "if len(numeric_features) > 0:\n",
    "    print(\"数值特征描述性统计:\")\n",
    "    display(train_df[numeric_features].describe())\n",
    "    \n",
    "    # 绘制数值特征分布图\n",
    "    n_cols = 3\n",
    "    n_rows = (len(numeric_features) + n_cols - 1) // n_cols\n",
    "    \n",
    "    fig, axes = plt.subplots(n_rows, n_cols, figsize=(15, 5*n_rows))\n",
    "    axes = axes.flatten() if n_rows > 1 else [axes] if n_rows == 1 else axes\n",
    "    \n",
    "    for i, feature in enumerate(numeric_features):\n",
    "        if i < len(axes):\n",
    "            train_df[feature].hist(bins=30, ax=axes[i], alpha=0.7, edgecolor='black')\n",
    "            axes[i].set_title(f'{feature} 分布')\n",
    "            axes[i].set_xlabel(feature)\n",
    "            axes[i].set_ylabel('频次')\n",
    "    \n",
    "    # 隐藏多余的子图\n",
    "    for i in range(len(numeric_features), len(axes)):\n",
    "        axes[i].set_visible(False)\n",
    "    \n",
    "    plt.tight_layout()\n",
    "    plt.show()"
   ]
  },
  {
   "cell_type": "code",
   "execution_count": null,
   "metadata": {},
   "outputs": [],
   "source": [
    "# 分类特征分析\n",
    "if len(categorical_features) > 0:\n",
    "    print(\"分类特征唯一值数量:\")\n",
    "    for feature in categorical_features:\n",
    "        unique_count = train_df[feature].nunique()\n",
    "        print(f\"{feature}: {unique_count} 个唯一值\")\n",
    "        if unique_count <= 10:\n",
    "            print(f\"  值: {train_df[feature].unique()}\")\n",
    "        print()\n",
    "    \n",
    "    # 绘制分类特征分布图\n",
    "    n_cols = 2\n",
    "    n_rows = (len(categorical_features) + n_cols - 1) // n_cols\n",
    "    \n",
    "    if n_rows > 0:\n",
    "        fig, axes = plt.subplots(n_rows, n_cols, figsize=(15, 5*n_rows))\n",
    "        if n_rows == 1 and n_cols == 1:\n",
    "            axes = [axes]\n",
    "        elif n_rows == 1:\n",
    "            axes = axes\n",
    "        else:\n",
    "            axes = axes.flatten()\n",
    "        \n",
    "        for i, feature in enumerate(categorical_features):\n",
    "            if i < len(axes):\n",
    "                value_counts = train_df[feature].value_counts()\n",
    "                value_counts.plot(kind='bar', ax=axes[i], color='lightcoral', edgecolor='black')\n",
    "                axes[i].set_title(f'{feature} 分布')\n",
    "                axes[i].set_xlabel(feature)\n",
    "                axes[i].set_ylabel('频次')\n",
    "                axes[i].tick_params(axis='x', rotation=45)\n",
    "        \n",
    "        # 隐藏多余的子图\n",
    "        for i in range(len(categorical_features), len(axes)):\n",
    "            axes[i].set_visible(False)\n",
    "        \n",
    "        plt.tight_layout()\n",
    "        plt.show()"
   ]
  },
  {
   "cell_type": "markdown",
   "metadata": {},
   "source": [
    "## 4. 特征与目标变量关系分析"
   ]
  },
  {
   "cell_type": "code",
   "execution_count": null,
   "metadata": {},
   "outputs": [],
   "source": [
    "# 数值特征与目标变量的关系\n",
    "if len(numeric_features) > 0:\n",
    "    # 计算相关系数\n",
    "    # 先对目标变量进行标签编码\n",
    "    from sklearn.preprocessing import LabelEncoder\n",
    "    le = LabelEncoder()\n",
    "    target_encoded = le.fit_transform(train_df[target_col])\n",
    "    \n",
    "    correlations = []\n",
    "    for feature in numeric_features:\n",
    "        corr = np.corrcoef(train_df[feature], target_encoded)[0, 1]\n",
    "        correlations.append((feature, corr))\n",
    "    \n",
    "    correlations.sort(key=lambda x: abs(x[1]), reverse=True)\n",
    "    \n",
    "    print(\"数值特征与目标变量的相关系数 (按绝对值排序):\")\n",
    "    for feature, corr in correlations:\n",
    "        print(f\"{feature}: {corr:.4f}\")\n",
    "    \n",
    "    # 绘制箱线图\n",
    "    n_cols = 2\n",
    "    n_rows = (len(numeric_features) + n_cols - 1) // n_cols\n",
    "    \n",
    "    fig, axes = plt.subplots(n_rows, n_cols, figsize=(15, 5*n_rows))\n",
    "    if n_rows == 1 and n_cols == 1:\n",
    "        axes = [axes]\n",
    "    elif n_rows == 1:\n",
    "        axes = axes\n",
    "    else:\n",
    "        axes = axes.flatten()\n",
    "    \n",
    "    for i, feature in enumerate(numeric_features):\n",
    "        if i < len(axes):\n",
    "            sns.boxplot(data=train_df, x=target_col, y=feature, ax=axes[i])\n",
    "            axes[i].set_title(f'{feature} vs {target_col}')\n",
    "            axes[i].tick_params(axis='x', rotation=45)\n",
    "    \n",
    "    # 隐藏多余的子图\n",
    "    for i in range(len(numeric_features), len(axes)):\n",
    "        axes[i].set_visible(False)\n",
    "    \n",
    "    plt.tight_layout()\n",
    "    plt.show()"
   ]
  },
  {
   "cell_type": "code",
   "execution_count": null,
   "metadata": {},
   "outputs": [],
   "source": [
    "# 分类特征与目标变量的关系\n",
    "if len(categorical_features) > 0:\n",
    "    for feature in categorical_features:\n",
    "        print(f\"\\n{feature} 与 {target_col} 的交叉表:\")\n",
    "        cross_tab = pd.crosstab(train_df[feature], train_df[target_col], margins=True)\n",
    "        display(cross_tab)\n",
    "        \n",
    "        # 卡方检验\n",
    "        from scipy.stats import chi2_contingency\n",
    "        chi2, p_value, dof, expected = chi2_contingency(cross_tab.iloc[:-1, :-1])\n",
    "        print(f\"卡方检验 p-value: {p_value:.6f}\")\n",
    "        if p_value < 0.05:\n",
    "            print(\"特征与目标变量显著相关 (p < 0.05)\")\n",
    "        else:\n",
    "            print(\"特征与目标变量无显著相关性 (p >= 0.05)\")"
   ]
  },
  {
   "cell_type": "markdown",
   "metadata": {},
   "source": [
    "## 5. 特征相关性分析"
   ]
  },
  {
   "cell_type": "code",
   "execution_count": null,
   "metadata": {},
   "outputs": [],
   "source": [
    "# 数值特征相关性矩阵\n",
    "if len(numeric_features) > 1:\n",
    "    correlation_matrix = train_df[numeric_features].corr()\n",
    "    \n",
    "    plt.figure(figsize=(12, 10))\n",
    "    mask = np.triu(np.ones_like(correlation_matrix, dtype=bool))\n",
    "    sns.heatmap(correlation_matrix, mask=mask, annot=True, cmap='coolwarm', center=0,\n",
    "                square=True, linewidths=0.5, cbar_kws={\"shrink\": .8})\n",
    "    plt.title('数值特征相关性热力图', fontsize=16, fontweight='bold')\n",
    "    plt.tight_layout()\n",
    "    plt.show()\n",
    "    \n",
    "    # 找出高相关性特征对\n",
    "    high_corr_pairs = []\n",
    "    for i in range(len(correlation_matrix.columns)):\n",
    "        for j in range(i+1, len(correlation_matrix.columns)):\n",
    "            corr_val = correlation_matrix.iloc[i, j]\n",
    "            if abs(corr_val) > 0.8:\n",
    "                high_corr_pairs.append((correlation_matrix.columns[i], \n",
    "                                      correlation_matrix.columns[j], \n",
    "                                      corr_val))\n",
    "    \n",
    "    if high_corr_pairs:\n",
    "        print(\"\\n高相关性特征对 (|相关系数| > 0.8):\")\n",
    "        for feat1, feat2, corr in high_corr_pairs:\n",
    "            print(f\"{feat1} - {feat2}: {corr:.4f}\")\n",
    "    else:\n",
    "        print(\"\\n没有发现高相关性特征对 (|相关系数| > 0.8)\")"
   ]
  },
  {
   "cell_type": "markdown",
   "metadata": {},
   "source": [
    "## 6. 异常值检测"
   ]
  },
  {
   "cell_type": "code",
   "execution_count": null,
   "metadata": {},
   "outputs": [],
   "source": [
    "# 使用IQR方法检测异常值\n",
    "def detect_outliers_iqr(df, feature):\n",
    "    Q1 = df[feature].quantile(0.25)\n",
    "    Q3 = df[feature].quantile(0.75)\n",
    "    IQR = Q3 - Q1\n",
    "    lower_bound = Q1 - 1.5 * IQR\n",
    "    upper_bound = Q3 + 1.5 * IQR\n",
    "    outliers = df[(df[feature] < lower_bound) | (df[feature] > upper_bound)]\n",
    "    return outliers, lower_bound, upper_bound\n",
    "\n",
    "if len(numeric_features) > 0:\n",
    "    print(\"异常值检测结果 (IQR方法):\")\n",
    "    outlier_summary = []\n",
    "    \n",
    "    for feature in numeric_features:\n",
    "        outliers, lower, upper = detect_outliers_iqr(train_df, feature)\n",
    "        outlier_count = len(outliers)\n",
    "        outlier_percent = (outlier_count / len(train_df)) * 100\n",
    "        outlier_summary.append({\n",
    "            'Feature': feature,\n",
    "            'Outlier_Count': outlier_count,\n",
    "            'Outlier_Percent': f\"{outlier_percent:.2f}%\",\n",
    "            'Lower_Bound': f\"{lower:.4f}\",\n",
    "            'Upper_Bound': f\"{upper:.4f}\"\n",
    "        })\n",
    "    \n",
    "    outlier_df = pd.DataFrame(outlier_summary)\n",
    "    display(outlier_df)"
   ]
  },
  {
   "cell_type": "markdown",
   "metadata": {},
   "source": [
    "## 7. 数据质量总结"
   ]
  },
  {
   "cell_type": "code",
   "execution_count": null,
   "metadata": {},
   "outputs": [],
   "source": [
    "# 数据质量总结报告\n",
    "print(\"=" * 60)\n",
    "print(\"           数据质量总结报告\")\n",
    "print(\"=" * 60)\n",
    "\n",
    "print(f\"1. 数据规模:\")\n",
    "print(f\"   - 训练集: {train_df.shape[0]} 行, {train_df.shape[1]} 列\")\n",
    "print(f\"   - 测试集: {test_df.shape[0]} 行, {test_df.shape[1]} 列\")\n",
    "\n",
    "print(f\"2. 特征类型:\")\n",
    "print(f\"   - 数值特征: {len(numeric_features)} 个\")\n",
    "print(f\"   - 分类特征: {len(categorical_features)} 个\")\n",
    "\n",
    "print(f\"3. 目标变量:\")\n",
    "print(f\"   - 类别数: {train_df[target_col].nunique()}\")\n",
    "print(f\"   - 类别不平衡比例: {imbalance_ratio:.2f}\")\n",
    "\n",
    "print(f\"4. 数据质量:\")\n",
    "missing_total = train_df.isnull().sum().sum()\n",
    "print(f\"   - 训练集缺失值: {missing_total} 个\")\n",
    "missing_total_test = test_df.isnull().sum().sum()\n",
    "print(f\"   - 测试集缺失值: {missing_total_test} 个\")\n",
    "\n",
    "if len(numeric_features) > 0 and 'outlier_df' in locals():\n",
    "    total_outliers = outlier_df['Outlier_Count'].sum()\n",
    "    print(f\"   - 异常值总数: {total_outliers} 个\")\n",
    "\n",
    "print(f\"5. 建议:\")\n",
    "if missing_total > 0:\n",
    "    print(f\"   - 需要处理缺失值\")\n",
    "if imbalance_ratio > 3:\n",
    "    print(f\"   - 考虑处理类别不平衡问题\")\n",
    "if len(high_corr_pairs) > 0:\n",
    "    print(f\"   - 考虑移除高相关性特征\")\n",
    "if len(numeric_features) > 0 and 'outlier_df' in locals() and total_outliers > 0:\n",
    "    print(f\"   - 考虑处理异常值\")\n",
    "\n",
    "print(\"=" * 60)"
   ]
  },
  {
   "cell_type": "markdown",
   "metadata": {},
   "source": [
    "## 8. 保存探索结果"
   ]
  },
  {
   "cell_type": "code",
   "execution_count": null,
   "metadata": {},
   "outputs": [],
   "source": [
    "# 保存数据探索的关键信息\n",
    "exploration_results = {\n",
    "    'train_shape': train_df.shape,\n",
    "    'test_shape': test_df.shape,\n",
    "    'numeric_features': numeric_features,\n",
    "    'categorical_features': categorical_features,\n",
    "    'target_distribution': train_df[target_col].value_counts().to_dict(),\n",
    "    'missing_values': train_df.isnull().sum().to_dict(),\n",
    "    'class_imbalance_ratio': imbalance_ratio\n",
    "}\n",
    "\n",
    "import json\n",
    "with open('exploration_results.json', 'w', encoding='utf-8') as f:\n",
    "    json.dump(exploration_results, f, ensure_ascii=False, indent=2)\n",
    "\n",
    "print(\"数据探索结果已保存到 exploration_results.json\")"
   ]
  }
 ],
 "metadata": {
  "kernelspec": {
   "display_name": "Python 3",
   "language": "python",
   "name": "python3"
  },
  "language_info": {
   "codemirror_mode": {
    "name": "ipython",
    "version": 3
   },
   "file_extension": ".py",
   "mimetype": "text/x-python",
   "name": "python",
   "nbconvert_exporter": "python",
   "pygments_lexer": "ipython3",
   "version": "3.8.0"
  }
 },
 "nbformat": 4,
 "nbformat_minor": 4
}